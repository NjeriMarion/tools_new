{
  "nbformat": 4,
  "nbformat_minor": 0,
  "metadata": {
    "colab": {
      "provenance": [],
      "authorship_tag": "ABX9TyMYM1Jo9VjIzhgWs9ScJMNQ",
      "include_colab_link": true
    },
    "kernelspec": {
      "name": "python3",
      "display_name": "Python 3"
    },
    "language_info": {
      "name": "python"
    }
  },
  "cells": [
    {
      "cell_type": "markdown",
      "metadata": {
        "id": "view-in-github",
        "colab_type": "text"
      },
      "source": [
        "<a href=\"https://colab.research.google.com/github/NjeriMarion/tools_new/blob/main/Trial_calc.ipynb\" target=\"_parent\"><img src=\"https://colab.research.google.com/assets/colab-badge.svg\" alt=\"Open In Colab\"/></a>"
      ]
    },
    {
      "cell_type": "code",
      "execution_count": 10,
      "metadata": {
        "colab": {
          "base_uri": "https://localhost:8080/"
        },
        "id": "nVd9KXZhQqvu",
        "outputId": "245b199c-19df-483b-d668-8df9a7ce82c4"
      },
      "outputs": [
        {
          "output_type": "stream",
          "name": "stdout",
          "text": [
            "select an operation to perform: \n",
            "1 for ADD\n",
            "2 for SUBTRACT\n",
            "3 for MULTIPLY\n",
            "4 for DIVIDE\n",
            "1\n",
            " Add values\n",
            "Enter fist number: 100\n",
            "Enter second number: 200\n",
            "300\n"
          ]
        }
      ],
      "source": [
        "print(\"select an operation to perform: \")\n",
        "print(\"1 for ADD\")\n",
        "print(\"2 for SUBTRACT\")\n",
        "print(\"3 for MULTIPLY\")\n",
        "print(\"4 for DIVIDE\")\n",
        "\n",
        "\n",
        "operation = input()\n",
        "print (\" Add values\")\n",
        "\n",
        "if operation == \"1\" :\n",
        "  #code for add\n",
        "  num1 = input(\"Enter fist number: \")\n",
        "  num2 = input(\"Enter second number: \")\n",
        "  print(str(int(num1) + int(num2)))\n",
        "\n",
        "elif operation == \"2\" :\n",
        "  #code for subract\n",
        "  num1 = input(\"Enter fist number: \")\n",
        "  num2=  input(\"Enter second number : \")\n",
        "  print(str(int(num1) - int(num2)))\n",
        "\n",
        "elif operation == \"3\":\n",
        "  #code for multiply\n",
        "  num1 = input(\"Enter fist number: \")\n",
        "  num2 = input(\"Enter second number : \")\n",
        "  print(str(int(num1) * int(num2)))\n",
        "\n",
        "elif operation == \"4 \" :\n",
        "  #code for divide\n",
        "  num1 = input(\"Enter fist number: \")\n",
        "  num2 = input(\"Enter second number : \")\n",
        "  print(str(int(num1) / int(num2)))\n",
        "else :\n",
        "  print(\"invalid entry\")\n",
        "\n",
        "\n",
        "\n"
      ]
    },
    {
      "cell_type": "markdown",
      "source": [
        "# New Section"
      ],
      "metadata": {
        "id": "-NjJY0MWYf_o"
      }
    }
  ]
}